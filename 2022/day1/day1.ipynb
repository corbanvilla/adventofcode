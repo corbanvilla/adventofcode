{
 "cells": [
  {
   "cell_type": "markdown",
   "id": "273c69e2-ecc0-4a7e-81fc-dcb111e07344",
   "metadata": {
    "tags": []
   },
   "source": [
    "# Day 1"
   ]
  },
  {
   "cell_type": "code",
   "execution_count": 20,
   "id": "c4313090-cd8e-485d-a678-12df52241e61",
   "metadata": {},
   "outputs": [],
   "source": [
    "from numpy import inf"
   ]
  },
  {
   "cell_type": "code",
   "execution_count": 2,
   "id": "7d122985-b6ee-43d2-b5bc-78595b5776be",
   "metadata": {},
   "outputs": [
    {
     "name": "stdout",
     "output_type": "stream",
     "text": [
      "9609\n",
      "7601\n",
      "\n"
     ]
    }
   ],
   "source": [
    "with open('elve_snacks.txt', 'r') as f:\n",
    "    elve_snacks = f.read()"
   ]
  },
  {
   "cell_type": "code",
   "execution_count": 4,
   "id": "a68fcc0b-bf0c-4fa8-a6e5-763514b3a5b6",
   "metadata": {},
   "outputs": [
    {
     "data": {
      "text/plain": [
       "251"
      ]
     },
     "execution_count": 4,
     "metadata": {},
     "output_type": "execute_result"
    }
   ],
   "source": [
    "all_snacks = [snacks.split('\\n') for snacks in elve_snacks.strip().split('\\n\\n')]\n",
    "len(all_snacks)"
   ]
  },
  {
   "cell_type": "markdown",
   "id": "a52e68d9-eb6d-4e72-b0ac-fd32867603d1",
   "metadata": {
    "tags": []
   },
   "source": [
    "### Part 1 : Elve with most calories O(n)"
   ]
  },
  {
   "cell_type": "code",
   "execution_count": 30,
   "id": "11808521-99df-4f1b-98d1-375b44739eb2",
   "metadata": {},
   "outputs": [
    {
     "data": {
      "text/plain": [
       "71300"
      ]
     },
     "execution_count": 30,
     "metadata": {},
     "output_type": "execute_result"
    }
   ],
   "source": [
    "most_calories = 0\n",
    "\n",
    "for snack in all_snacks:\n",
    "    if (cals := sum([int(s) for s in snack])) > most_calories:\n",
    "        most_calories = cals\n",
    "    \n",
    "most_calories"
   ]
  },
  {
   "cell_type": "markdown",
   "id": "0d16d2b4-0841-4495-9537-788dd35a54a7",
   "metadata": {},
   "source": [
    "### Part 2 : Top 3 Elves with most calories O(n)"
   ]
  },
  {
   "cell_type": "code",
   "execution_count": 29,
   "id": "0af30875-c92c-4fe7-8867-444d57bd2734",
   "metadata": {},
   "outputs": [
    {
     "data": {
      "text/plain": [
       "209691"
      ]
     },
     "execution_count": 29,
     "metadata": {},
     "output_type": "execute_result"
    }
   ],
   "source": [
    "top_3_elves = [0, 0, 0]\n",
    "\n",
    "for snack in all_snacks:\n",
    "    # larger than the currnet min of 3max\n",
    "    if (cals := sum([int(s) for s in snack])) > top_3_elves[0]:\n",
    "        # remove the current min\n",
    "        top_3_elves.pop(0)\n",
    "        # determine where to insert\n",
    "        # add infinity at the end to ensure\n",
    "        # it'll alwyas be less than something\n",
    "        for idx, comp in enumerate(top_3_elves + [inf]):\n",
    "            if cals < comp:\n",
    "                top_3_elves.insert(idx, cals)\n",
    "                break\n",
    "                \n",
    "sum(top_3_elves)"
   ]
  }
 ],
 "metadata": {
  "kernelspec": {
   "display_name": "Python 3 (ipykernel)",
   "language": "python",
   "name": "python3"
  },
  "language_info": {
   "codemirror_mode": {
    "name": "ipython",
    "version": 3
   },
   "file_extension": ".py",
   "mimetype": "text/x-python",
   "name": "python",
   "nbconvert_exporter": "python",
   "pygments_lexer": "ipython3",
   "version": "3.10.6"
  }
 },
 "nbformat": 4,
 "nbformat_minor": 5
}
